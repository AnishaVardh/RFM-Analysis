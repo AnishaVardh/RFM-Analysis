{
  "nbformat": 4,
  "nbformat_minor": 0,
  "metadata": {
    "colab": {
      "provenance": [],
      "authorship_tag": "ABX9TyPer8tpzeAQ5jHFqHE+NsTF",
      "include_colab_link": true
    },
    "kernelspec": {
      "name": "ir",
      "display_name": "R"
    },
    "language_info": {
      "name": "R"
    },
    "accelerator": "TPU",
    "gpuClass": "standard"
  },
  "cells": [
    {
      "cell_type": "markdown",
      "metadata": {
        "id": "view-in-github",
        "colab_type": "text"
      },
      "source": [
        "<a href=\"https://colab.research.google.com/github/AnishaVardh/RFM-Analysis/blob/main/RFM.ipynb\" target=\"_parent\"><img src=\"https://colab.research.google.com/assets/colab-badge.svg\" alt=\"Open In Colab\"/></a>"
      ]
    },
    {
      "cell_type": "markdown",
      "source": [
        "# **CUSTOMER SEGMENTATION USING RFM**\n",
        "R-Recency\n",
        "F-Frequency\n",
        "M-Monetary"
      ],
      "metadata": {
        "id": "Terai5dVmkFA"
      }
    },
    {
      "cell_type": "code",
      "execution_count": null,
      "metadata": {
        "colab": {
          "base_uri": "https://localhost:8080/"
        },
        "id": "9iq2W6_aepro",
        "outputId": "b122367e-b33e-4c2b-d6b9-e56a194e9b0c"
      },
      "outputs": [
        {
          "output_type": "stream",
          "name": "stderr",
          "text": [
            "\n",
            "Attaching package: ‘dplyr’\n",
            "\n",
            "\n",
            "The following objects are masked from ‘package:data.table’:\n",
            "\n",
            "    between, first, last\n",
            "\n",
            "\n",
            "The following objects are masked from ‘package:stats’:\n",
            "\n",
            "    filter, lag\n",
            "\n",
            "\n",
            "The following objects are masked from ‘package:base’:\n",
            "\n",
            "    intersect, setdiff, setequal, union\n",
            "\n",
            "\n"
          ]
        }
      ],
      "source": [
        "library(data.table)\n",
        "library(dplyr)\n",
        "library(ggplot2)\n",
        "#library(stringr)\n",
        "#library(DT)\n",
        "library(tidyr)\n",
        "library(knitr)\n",
        "library(rmarkdown)"
      ]
    },
    {
      "cell_type": "markdown",
      "source": [
        "Read Data"
      ],
      "metadata": {
        "id": "_QB1bcOPW42R"
      }
    },
    {
      "cell_type": "code",
      "source": [
        "df_data <- fread('data.csv')\n",
        "glimpse(df_data)"
      ],
      "metadata": {
        "colab": {
          "base_uri": "https://localhost:8080/"
        },
        "id": "6TZTuak-gu--",
        "outputId": "8f2ce4da-3617-4f4e-d350-8f9a1421935b"
      },
      "execution_count": null,
      "outputs": [
        {
          "output_type": "stream",
          "name": "stdout",
          "text": [
            "Rows: 541,909\n",
            "Columns: 8\n",
            "$ InvoiceNo   \u001b[3m\u001b[90m<chr>\u001b[39m\u001b[23m \"536365\", \"536365\", \"536365\", \"536365\", \"536365\", \"536365\"…\n",
            "$ StockCode   \u001b[3m\u001b[90m<chr>\u001b[39m\u001b[23m \"85123A\", \"71053\", \"84406B\", \"84029G\", \"84029E\", \"22752\", …\n",
            "$ Description \u001b[3m\u001b[90m<chr>\u001b[39m\u001b[23m \"WHITE HANGING HEART T-LIGHT HOLDER\", \"WHITE METAL LANTERN…\n",
            "$ Quantity    \u001b[3m\u001b[90m<int>\u001b[39m\u001b[23m 6, 6, 8, 6, 6, 2, 6, 6, 6, 32, 6, 6, 8, 6, 6, 3, 2, 3, 3, …\n",
            "$ InvoiceDate \u001b[3m\u001b[90m<chr>\u001b[39m\u001b[23m \"12/1/2010 8:26\", \"12/1/2010 8:26\", \"12/1/2010 8:26\", \"12/…\n",
            "$ UnitPrice   \u001b[3m\u001b[90m<dbl>\u001b[39m\u001b[23m 2.55, 3.39, 2.75, 3.39, 3.39, 7.65, 4.25, 1.85, 1.85, 1.69…\n",
            "$ CustomerID  \u001b[3m\u001b[90m<int>\u001b[39m\u001b[23m 17850, 17850, 17850, 17850, 17850, 17850, 17850, 17850, 17…\n",
            "$ Country     \u001b[3m\u001b[90m<chr>\u001b[39m\u001b[23m \"United Kingdom\", \"United Kingdom\", \"United Kingdom\", \"Uni…\n"
          ]
        }
      ]
    },
    {
      "cell_type": "markdown",
      "source": [
        "Data Cleaning"
      ],
      "metadata": {
        "id": "KfInGJ_9XxVR"
      }
    },
    {
      "cell_type": "code",
      "source": [
        "df_data <- df_data %>% \n",
        "  mutate(Quantity = replace(Quantity, Quantity<=0, NA),\n",
        "         UnitPrice = replace(UnitPrice, UnitPrice<=0, NA))\n",
        "\n",
        "df_data <- df_data %>%\n",
        "  drop_na()"
      ],
      "metadata": {
        "id": "LWPXwmPdgzUi"
      },
      "execution_count": null,
      "outputs": []
    },
    {
      "cell_type": "markdown",
      "source": [
        "Recode variables"
      ],
      "metadata": {
        "id": "acUwWaV8X0dT"
      }
    },
    {
      "cell_type": "code",
      "source": [
        "df_data <- df_data %>% \n",
        "  mutate(InvoiceNo=as.factor(InvoiceNo), StockCode=as.factor(StockCode), \n",
        "         InvoiceDate=as.Date(InvoiceDate, '%m/%d/%Y %H:%M'), CustomerID=as.factor(CustomerID), \n",
        "         Country=as.factor(Country))\n",
        "\n",
        "df_data <- df_data %>% \n",
        "  mutate(total_dolar = Quantity*UnitPrice)\n",
        "\n",
        "glimpse(df_data)"
      ],
      "metadata": {
        "colab": {
          "base_uri": "https://localhost:8080/"
        },
        "id": "4wllNrLUg2D6",
        "outputId": "f1198715-aa08-4d43-b92a-45e72fc826bf"
      },
      "execution_count": null,
      "outputs": [
        {
          "output_type": "stream",
          "name": "stdout",
          "text": [
            "Rows: 397,884\n",
            "Columns: 9\n",
            "$ InvoiceNo   \u001b[3m\u001b[90m<fct>\u001b[39m\u001b[23m 536365, 536365, 536365, 536365, 536365, 536365, 536365, 53…\n",
            "$ StockCode   \u001b[3m\u001b[90m<fct>\u001b[39m\u001b[23m 85123A, 71053, 84406B, 84029G, 84029E, 22752, 21730, 22633…\n",
            "$ Description \u001b[3m\u001b[90m<chr>\u001b[39m\u001b[23m \"WHITE HANGING HEART T-LIGHT HOLDER\", \"WHITE METAL LANTERN…\n",
            "$ Quantity    \u001b[3m\u001b[90m<int>\u001b[39m\u001b[23m 6, 6, 8, 6, 6, 2, 6, 6, 6, 32, 6, 6, 8, 6, 6, 3, 2, 3, 3, …\n",
            "$ InvoiceDate \u001b[3m\u001b[90m<date>\u001b[39m\u001b[23m 2010-12-01, 2010-12-01, 2010-12-01, 2010-12-01, 2010-12-0…\n",
            "$ UnitPrice   \u001b[3m\u001b[90m<dbl>\u001b[39m\u001b[23m 2.55, 3.39, 2.75, 3.39, 3.39, 7.65, 4.25, 1.85, 1.85, 1.69…\n",
            "$ CustomerID  \u001b[3m\u001b[90m<fct>\u001b[39m\u001b[23m 17850, 17850, 17850, 17850, 17850, 17850, 17850, 17850, 17…\n",
            "$ Country     \u001b[3m\u001b[90m<fct>\u001b[39m\u001b[23m United Kingdom, United Kingdom, United Kingdom, United Kin…\n",
            "$ total_dolar \u001b[3m\u001b[90m<dbl>\u001b[39m\u001b[23m 15.30, 20.34, 22.00, 20.34, 20.34, 15.30, 25.50, 11.10, 11…\n"
          ]
        }
      ]
    },
    {
      "cell_type": "markdown",
      "source": [
        "Calculate RFM\n",
        "\n",
        "---\n",
        "Find the most recent date for each ID and calculate the days to the now or some other date, to get the Recency data.\n",
        "\n",
        "Calculate the quantity of translations of a customer, to get the Frequency data\n",
        "Sum the amount of money a customer spent and divide it by Frequency, to get the amount per transaction on average, that is the Monetary data.\n",
        "\n"
      ],
      "metadata": {
        "id": "C3nMm-ENX5UT"
      }
    },
    {
      "cell_type": "code",
      "source": [
        "df_RFM <- df_data %>% \n",
        "  group_by(CustomerID) %>% \n",
        "  summarise(recency=as.numeric(as.Date(\"2012-01-01\")-max(InvoiceDate)),\n",
        "            frequenci=n_distinct(InvoiceNo), monitery= sum(total_dolar)/n_distinct(InvoiceNo)) \n",
        "\n",
        "summary(df_RFM)\n",
        "\n",
        "kable(head(df_RFM))"
      ],
      "metadata": {
        "colab": {
          "base_uri": "https://localhost:8080/",
          "height": 344
        },
        "id": "4HZM16a3g5gT",
        "outputId": "99e58eb0-f773-4bb1-8394-3e765efaa5ea"
      },
      "execution_count": null,
      "outputs": [
        {
          "output_type": "display_data",
          "data": {
            "text/plain": [
              "   CustomerID      recency        frequenci          monitery       \n",
              " 12346  :   1   Min.   : 23.0   Min.   :  1.000   Min.   :    3.45  \n",
              " 12347  :   1   1st Qu.: 40.0   1st Qu.:  1.000   1st Qu.:  178.62  \n",
              " 12348  :   1   Median : 73.0   Median :  2.000   Median :  293.90  \n",
              " 12349  :   1   Mean   :115.1   Mean   :  4.272   Mean   :  419.17  \n",
              " 12350  :   1   3rd Qu.:164.8   3rd Qu.:  5.000   3rd Qu.:  430.11  \n",
              " 12352  :   1   Max.   :396.0   Max.   :209.000   Max.   :84236.25  \n",
              " (Other):4332                                                       "
            ]
          },
          "metadata": {}
        },
        {
          "output_type": "display_data",
          "data": {
            "text/plain": [
              "\n",
              "\n",
              "|CustomerID | recency| frequenci|   monitery|\n",
              "|:----------|-------:|---------:|----------:|\n",
              "|12346      |     348|         1| 77183.6000|\n",
              "|12347      |      25|         7|   615.7143|\n",
              "|12348      |      98|         4|   449.3100|\n",
              "|12349      |      41|         1|  1757.5500|\n",
              "|12350      |     333|         1|   334.4000|\n",
              "|12352      |      59|         8|   313.2550|"
            ]
          },
          "metadata": {}
        }
      ]
    },
    {
      "cell_type": "markdown",
      "source": [
        "Clustering"
      ],
      "metadata": {
        "id": "bkyp8FYVYM34"
      }
    },
    {
      "cell_type": "code",
      "source": [
        "df_RFM2 <- df_RFM\n",
        "row.names(df_RFM2) <- df_RFM2$CustomerID"
      ],
      "metadata": {
        "colab": {
          "base_uri": "https://localhost:8080/"
        },
        "id": "7DgnTQ9qg82e",
        "outputId": "2a345a35-efd0-44b0-e499-7f2b2b423d0e"
      },
      "execution_count": null,
      "outputs": [
        {
          "output_type": "stream",
          "name": "stderr",
          "text": [
            "Warning message:\n",
            "“Setting row names on a tibble is deprecated.”\n"
          ]
        }
      ]
    },
    {
      "cell_type": "code",
      "source": [
        "df_RFM2$CustomerID <- NULL\n",
        "\n",
        "df_RFM2 <- scale(df_RFM2)\n",
        "summary(df_RFM2)"
      ],
      "metadata": {
        "colab": {
          "base_uri": "https://localhost:8080/",
          "height": 144
        },
        "id": "rhdtcLvtg-23",
        "outputId": "476820be-0437-42d7-c31f-089fb5dc06e9"
      },
      "execution_count": null,
      "outputs": [
        {
          "output_type": "display_data",
          "data": {
            "text/plain": [
              "    recency          frequenci           monitery       \n",
              " Min.   :-0.9205   Min.   :-0.42505   Min.   :-0.23140  \n",
              " 1st Qu.:-0.7505   1st Qu.:-0.42505   1st Qu.:-0.13389  \n",
              " Median :-0.4205   Median :-0.29514   Median :-0.06973  \n",
              " Mean   : 0.0000   Mean   : 0.00000   Mean   : 0.00000  \n",
              " 3rd Qu.: 0.4968   3rd Qu.: 0.09457   3rd Qu.: 0.00609  \n",
              " Max.   : 2.8091   Max.   :26.59496   Max.   :46.65478  "
            ]
          },
          "metadata": {}
        }
      ]
    },
    {
      "cell_type": "code",
      "source": [
        "d <- dist(df_RFM2)\n",
        "c <- hclust(d, method = 'ward.D2')\n",
        "\n",
        "plot(c)"
      ],
      "metadata": {
        "colab": {
          "base_uri": "https://localhost:8080/",
          "height": 437
        },
        "id": "M1LTrOILjGev",
        "outputId": "d8a0a6e4-2ab3-4149-e77b-679da086963e"
      },
      "execution_count": null,
      "outputs": [
        {
          "output_type": "display_data",
          "data": {
            "text/plain": [
              "Plot with title “Cluster Dendrogram”"
            ],
            "image/png": "[encoded data removed]"
          },
          "metadata": {
            "image/png": {
              "width": 420,
              "height": 420
            }
          }
        }
      ]
    },
    {
      "cell_type": "code",
      "source": [
        "members <- cutree(c,k = 8)\n",
        "\n",
        "members[1:5]"
      ],
      "metadata": {
        "colab": {
          "base_uri": "https://localhost:8080/",
          "height": 34
        },
        "id": "-nJch94ojJ0E",
        "outputId": "983479d3-acaf-49b7-c201-bfb779ed0312"
      },
      "execution_count": null,
      "outputs": [
        {
          "output_type": "display_data",
          "data": {
            "text/html": [
              "<style>\n",
              ".list-inline {list-style: none; margin:0; padding: 0}\n",
              ".list-inline>li {display: inline-block}\n",
              ".list-inline>li:not(:last-child)::after {content: \"\\00b7\"; padding: 0 .5ex}\n",
              "</style>\n",
              "<ol class=list-inline><li>1</li><li>2</li><li>3</li><li>3</li><li>4</li></ol>\n"
            ],
            "text/markdown": "1. 1\n2. 2\n3. 3\n4. 3\n5. 4\n\n\n",
            "text/latex": "\\begin{enumerate*}\n\\item 1\n\\item 2\n\\item 3\n\\item 3\n\\item 4\n\\end{enumerate*}\n",
            "text/plain": [
              "[1] 1 2 3 3 4"
            ]
          },
          "metadata": {}
        }
      ]
    },
    {
      "cell_type": "code",
      "source": [
        "table(members)"
      ],
      "metadata": {
        "colab": {
          "base_uri": "https://localhost:8080/",
          "height": 71
        },
        "id": "uO60F_tBjMDT",
        "outputId": "de5b596e-56f7-4e62-a176-7b0d761b2c5b"
      },
      "execution_count": null,
      "outputs": [
        {
          "output_type": "display_data",
          "data": {
            "text/plain": [
              "members\n",
              "   1    2    3    4    5    6    7    8 \n",
              "   2 1744 1208  488  516  306   67    7 "
            ]
          },
          "metadata": {}
        }
      ]
    },
    {
      "cell_type": "code",
      "source": [
        "df2<-aggregate(df_RFM[,2:4], by=list(members), mean)"
      ],
      "metadata": {
        "colab": {
          "base_uri": "https://localhost:8080/",
          "height": 349
        },
        "id": "70X3IDKNjMlT",
        "outputId": "0764b1fc-205b-4370-ab76-850db4093ec6"
      },
      "execution_count": null,
      "outputs": [
        {
          "output_type": "display_data",
          "data": {
            "text/html": [
              "<table class=\"dataframe\">\n",
              "<caption>A data.frame: 8 × 4</caption>\n",
              "<thead>\n",
              "\t<tr><th scope=col>Group.1</th><th scope=col>recency</th><th scope=col>frequenci</th><th scope=col>monitery</th></tr>\n",
              "\t<tr><th scope=col>&lt;int&gt;</th><th scope=col>&lt;dbl&gt;</th><th scope=col>&lt;dbl&gt;</th><th scope=col>&lt;dbl&gt;</th></tr>\n",
              "</thead>\n",
              "<tbody>\n",
              "\t<tr><td>1</td><td>185.50000</td><td>  1.500000</td><td>80709.9250</td></tr>\n",
              "\t<tr><td>2</td><td> 44.24312</td><td>  3.702408</td><td>  319.1206</td></tr>\n",
              "\t<tr><td>3</td><td>107.22185</td><td>  2.511589</td><td>  504.6539</td></tr>\n",
              "\t<tr><td>4</td><td>332.09016</td><td>  1.290984</td><td>  313.9860</td></tr>\n",
              "\t<tr><td>5</td><td>223.57364</td><td>  1.711240</td><td>  276.0749</td></tr>\n",
              "\t<tr><td>6</td><td> 41.18301</td><td> 14.045752</td><td>  482.9951</td></tr>\n",
              "\t<tr><td>7</td><td> 28.02985</td><td> 34.716418</td><td>  664.7225</td></tr>\n",
              "\t<tr><td>8</td><td> 24.14286</td><td>128.714286</td><td>  391.7894</td></tr>\n",
              "</tbody>\n",
              "</table>\n"
            ],
            "text/markdown": "\nA data.frame: 8 × 4\n\n| Group.1 &lt;int&gt; | recency &lt;dbl&gt; | frequenci &lt;dbl&gt; | monitery &lt;dbl&gt; |\n|---|---|---|---|\n| 1 | 185.50000 |   1.500000 | 80709.9250 |\n| 2 |  44.24312 |   3.702408 |   319.1206 |\n| 3 | 107.22185 |   2.511589 |   504.6539 |\n| 4 | 332.09016 |   1.290984 |   313.9860 |\n| 5 | 223.57364 |   1.711240 |   276.0749 |\n| 6 |  41.18301 |  14.045752 |   482.9951 |\n| 7 |  28.02985 |  34.716418 |   664.7225 |\n| 8 |  24.14286 | 128.714286 |   391.7894 |\n\n",
            "text/latex": "A data.frame: 8 × 4\n\\begin{tabular}{llll}\n Group.1 & recency & frequenci & monitery\\\\\n <int> & <dbl> & <dbl> & <dbl>\\\\\n\\hline\n\t 1 & 185.50000 &   1.500000 & 80709.9250\\\\\n\t 2 &  44.24312 &   3.702408 &   319.1206\\\\\n\t 3 & 107.22185 &   2.511589 &   504.6539\\\\\n\t 4 & 332.09016 &   1.290984 &   313.9860\\\\\n\t 5 & 223.57364 &   1.711240 &   276.0749\\\\\n\t 6 &  41.18301 &  14.045752 &   482.9951\\\\\n\t 7 &  28.02985 &  34.716418 &   664.7225\\\\\n\t 8 &  24.14286 & 128.714286 &   391.7894\\\\\n\\end{tabular}\n",
            "text/plain": [
              "  Group.1 recency   frequenci  monitery  \n",
              "1 1       185.50000   1.500000 80709.9250\n",
              "2 2        44.24312   3.702408   319.1206\n",
              "3 3       107.22185   2.511589   504.6539\n",
              "4 4       332.09016   1.290984   313.9860\n",
              "5 5       223.57364   1.711240   276.0749\n",
              "6 6        41.18301  14.045752   482.9951\n",
              "7 7        28.02985  34.716418   664.7225\n",
              "8 8        24.14286 128.714286   391.7894"
            ]
          },
          "metadata": {}
        }
      ]
    }
  ]
}